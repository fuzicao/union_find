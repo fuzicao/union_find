{
 "cells": [
  {
   "cell_type": "markdown",
   "metadata": {},
   "source": [
    "<h2>The union find data structure</h2>"
   ]
  },
  {
   "cell_type": "code",
   "execution_count": 1,
   "metadata": {},
   "outputs": [],
   "source": [
    "class UF:\n",
    "    def __init__(self, n):\n",
    "        self.parent_list = [k for k in range(n)]\n",
    "        self.size_list = [1 for k in range(n)]\n",
    "    \n",
    "    def find(self, i):\n",
    "        while self.parent_list[i] != i:\n",
    "            i = self.parent_list[i]\n",
    "        return i\n",
    "    \n",
    "    def union(self, x, y):\n",
    "        i, j = self.find(x), self.find(y)\n",
    "        if i != j:\n",
    "            if self.size_list[i] >= self.size_list[j]:\n",
    "                self.parent_list[j] = i\n",
    "                self.size_list[i] += self.size_list[j]\n",
    "            else:\n",
    "                self.parent_list[i] = j\n",
    "                self.size_list[j] += self.size_list[i]"
   ]
  },
  {
   "cell_type": "markdown",
   "metadata": {},
   "source": [
    "<h2>Testing the data structure</h2>"
   ]
  },
  {
   "cell_type": "code",
   "execution_count": 2,
   "metadata": {},
   "outputs": [
    {
     "name": "stdout",
     "output_type": "stream",
     "text": [
      "(0, 0)\n",
      "(1, 2)\n",
      "(2, 2)\n",
      "(3, 2)\n",
      "(4, 4)\n",
      "(5, 5)\n",
      "(6, 5)\n"
     ]
    }
   ],
   "source": [
    "myUF = UF(7)\n",
    "myUF.union(2,3)\n",
    "myUF.union(2,1)\n",
    "myUF.union(5,6)\n",
    "for i in range(7):\n",
    "    print((i, myUF.find(i)))"
   ]
  },
  {
   "cell_type": "markdown",
   "metadata": {},
   "source": [
    "<h2>Application -- a programming problem: redundant connection</h2>\n",
    "\n",
    "In this problem, a tree is an undirected graph that is connected and has no cycles.\n",
    "\n",
    "You are given a graph that started as a tree with n nodes labeled from 1 to n, with one additional edge added. The added edge has two different vertices chosen from 1 to n, and was not an edge that already existed. The graph is represented as an array edges of length n where edges[i] = [ai, bi] indicates that there is an edge between nodes ai and bi in the graph.\n",
    "\n",
    "Return an edge that can be removed so that the resulting graph is a tree of n nodes. If there are multiple answers, return the answer that occurs last in the input.\n",
    "\n",
    "<h3>Example 1</h3>\n",
    "\n",
    "Input: edges = [[1,2],[1,3],[2,3]]\n",
    "\n",
    "Output: [2,3]\n",
    "\n",
    "<h3>Example 2</h3>\n",
    "\n",
    "Input: edges = [[1,2],[2,3],[3,4],[1,4],[1,5]]\n",
    "\n",
    "Output: [1,4]\n",
    "\n",
    "<h3>Constraints</h3>\n",
    "\n",
    "n == edges.length\n",
    "\n",
    "3 <= n <= 1000\n",
    "\n",
    "edges[i].length == 2\n",
    "\n",
    "1 <= ai < bi <= edges.length\n",
    "\n",
    "ai != bi\n",
    "\n",
    "There are no repeated edges.\n",
    "\n",
    "The given graph is connected."
   ]
  },
  {
   "cell_type": "code",
   "execution_count": 3,
   "metadata": {},
   "outputs": [],
   "source": [
    "class Solution:\n",
    "    def findRedundantConnection(self, edges):\n",
    "        n = max([max(edge) for edge in edges]) + 1\n",
    "        uf = UF(n)\n",
    "        for edge in edges:\n",
    "            if uf.find(edge[0]) == uf.find(edge[1]):\n",
    "                return edge\n",
    "            uf.union(edge[0], edge[1])"
   ]
  },
  {
   "cell_type": "code",
   "execution_count": 4,
   "metadata": {},
   "outputs": [
    {
     "name": "stdout",
     "output_type": "stream",
     "text": [
      "[2, 3]\n",
      "[1, 4]\n",
      "[2, 5]\n"
     ]
    }
   ],
   "source": [
    "print(Solution().findRedundantConnection([[1,2],[1,3],[2,3]]))\n",
    "print(Solution().findRedundantConnection([[1,2],[2,3],[3,4],[1,4],[1,5]]))\n",
    "print(Solution().findRedundantConnection([[3,4],[1,2],[2,4],[3,5],[2,5]]))"
   ]
  },
  {
   "cell_type": "code",
   "execution_count": null,
   "metadata": {},
   "outputs": [],
   "source": []
  }
 ],
 "metadata": {
  "kernelspec": {
   "display_name": "Python 3",
   "language": "python",
   "name": "python3"
  },
  "language_info": {
   "codemirror_mode": {
    "name": "ipython",
    "version": 3
   },
   "file_extension": ".py",
   "mimetype": "text/x-python",
   "name": "python",
   "nbconvert_exporter": "python",
   "pygments_lexer": "ipython3",
   "version": "3.8.3"
  }
 },
 "nbformat": 4,
 "nbformat_minor": 4
}
