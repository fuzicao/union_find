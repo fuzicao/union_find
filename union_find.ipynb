{
 "cells": [
  {
   "cell_type": "markdown",
   "metadata": {},
   "source": [
    "<h2>Problem</h2>\n",
    "\n",
    "In this problem, a tree is an undirected graph that is connected and has no cycles.\n",
    "\n",
    "You are given a graph that started as a tree with n nodes labeled from 1 to n, with one additional edge added. The added edge has two different vertices chosen from 1 to n, and was not an edge that already existed. The graph is represented as an array edges of length n where edges[i] = [ai, bi] indicates that there is an edge between nodes ai and bi in the graph.\n",
    "\n",
    "Return an edge that can be removed so that the resulting graph is a tree of n nodes. If there are multiple answers, return the answer that occurs last in the input."
   ]
  },
  {
   "cell_type": "markdown",
   "metadata": {},
   "source": [
    "<h3>Example 1</h3>\n",
    "\n",
    "Input: edges = [[1,2],[1,3],[2,3]]\n",
    "\n",
    "Output: [2,3]"
   ]
  },
  {
   "cell_type": "markdown",
   "metadata": {},
   "source": [
    "<h3>Example 2</h3>\n",
    "\n",
    "Input: edges = [[1,2],[2,3],[3,4],[1,4],[1,5]]\n",
    "\n",
    "Output: [1,4]"
   ]
  },
  {
   "cell_type": "markdown",
   "metadata": {},
   "source": [
    "<h3>Constraints</h3>\n",
    "\n",
    "n == edges.length\n",
    "\n",
    "3 <= n <= 1000\n",
    "\n",
    "edges[i].length == 2\n",
    "\n",
    "1 <= ai < bi <= edges.length\n",
    "\n",
    "ai != bi\n",
    "\n",
    "There are no repeated edges.\n",
    "\n",
    "The given graph is connected."
   ]
  },
  {
   "cell_type": "markdown",
   "metadata": {},
   "source": [
    "<h3> Solution </h3>"
   ]
  },
  {
   "cell_type": "code",
   "execution_count": 1,
   "metadata": {},
   "outputs": [],
   "source": [
    "class UF:\n",
    "    def __init__(self, N):\n",
    "        self._id = list(range(N))\n",
    "        self._count = N\n",
    "        self._rank = [0] * N\n",
    "\n",
    "    def find(self, p):\n",
    "        id = self._id\n",
    "        while p != id[p]:\n",
    "            p = id[p]\n",
    "            id[p] = self.find(id[p])\n",
    "        return p\n",
    "\n",
    "    def count(self):\n",
    "        return self._count\n",
    "\n",
    "    def connected(self, p, q):\n",
    "        return self.find(p) == self.find(q)\n",
    "\n",
    "    def union(self, p, q):\n",
    "        id = self._id\n",
    "        rank = self._rank\n",
    "        i = self.find(p)\n",
    "        j = self.find(q)\n",
    "        if i == j:\n",
    "            return\n",
    "        self._count -= 1\n",
    "        if rank[i] < rank[j]:\n",
    "            id[i] = j\n",
    "        elif rank[i] > rank[j]:\n",
    "            id[j] = i\n",
    "        else:\n",
    "            id[j] = i\n",
    "            rank[i] += 1\n",
    "            \n",
    "            \n",
    "class Solution:\n",
    "    def findRedundantConnection(self, edges):\n",
    "        N = max([max(edge) for edge in edges]) + 1\n",
    "        uf = UF(N)\n",
    "        for edge in edges:\n",
    "            if uf.connected(edge[0], edge[1]):\n",
    "                return edge\n",
    "            uf.union(edge[0], edge[1])"
   ]
  },
  {
   "cell_type": "markdown",
   "metadata": {},
   "source": [
    "<h3>Examples</h3>"
   ]
  },
  {
   "cell_type": "code",
   "execution_count": 2,
   "metadata": {},
   "outputs": [
    {
     "name": "stdout",
     "output_type": "stream",
     "text": [
      "[2, 3]\n",
      "[1, 4]\n",
      "[2, 5]\n"
     ]
    }
   ],
   "source": [
    "print(Solution().findRedundantConnection([[1,2],[1,3],[2,3]]))\n",
    "print(Solution().findRedundantConnection([[1,2],[2,3],[3,4],[1,4],[1,5]]))\n",
    "print(Solution().findRedundantConnection([[3,4],[1,2],[2,4],[3,5],[2,5]]))"
   ]
  },
  {
   "cell_type": "code",
   "execution_count": null,
   "metadata": {},
   "outputs": [],
   "source": []
  }
 ],
 "metadata": {
  "kernelspec": {
   "display_name": "Python 3",
   "language": "python",
   "name": "python3"
  },
  "language_info": {
   "codemirror_mode": {
    "name": "ipython",
    "version": 3
   },
   "file_extension": ".py",
   "mimetype": "text/x-python",
   "name": "python",
   "nbconvert_exporter": "python",
   "pygments_lexer": "ipython3",
   "version": "3.8.3"
  }
 },
 "nbformat": 4,
 "nbformat_minor": 4
}
